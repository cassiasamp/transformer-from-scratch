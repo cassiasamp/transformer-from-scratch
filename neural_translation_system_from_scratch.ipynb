{
 "cells": [
  {
   "cell_type": "markdown",
   "id": "a97f1d24",
   "metadata": {},
   "source": [
    "# Neural translation system"
   ]
  },
  {
   "cell_type": "markdown",
   "id": "a28b30a7",
   "metadata": {},
   "source": [
    "## 1. Cleaning text and saving pairs of words\n",
    "- download language files from http://www.manythings.org/anki/"
   ]
  },
  {
   "cell_type": "code",
   "execution_count": 1,
   "id": "81bbd13a",
   "metadata": {},
   "outputs": [],
   "source": [
    "import string\n",
    "import re\n",
    "from pickle import dump\n",
    "from unicodedata import normalize\n",
    "from numpy import array"
   ]
  },
  {
   "cell_type": "code",
   "execution_count": 2,
   "id": "6558bdbd",
   "metadata": {},
   "outputs": [],
   "source": [
    "def load_doc(filename):\n",
    "    file = open(filename, mode='rt', encoding='utf-8')\n",
    "    text = file.read()\n",
    "    file.close()\n",
    "    return text"
   ]
  },
  {
   "cell_type": "code",
   "execution_count": 3,
   "id": "56fa0c73",
   "metadata": {},
   "outputs": [],
   "source": [
    "# split the loaded text by line and then by phrase\n",
    "\n",
    "def to_pairs(doc):\n",
    "    lines = doc.strip().split('\\n')\n",
    "    pairs = [line.split('\\t') for line in lines]\n",
    "    return pairs"
   ]
  },
  {
   "cell_type": "markdown",
   "id": "eb67d000",
   "metadata": {},
   "source": [
    "- remove all non-printable characters;\n",
    "- remove all punctuation characters;\n",
    "- normalize all Unicode characters to ASCII (e.g. Latin characters);\n",
    "- normalize the case to lowercase;\n",
    "- remove any remaining tokens that are not alphabetic."
   ]
  },
  {
   "cell_type": "code",
   "execution_count": 4,
   "id": "b64a5815",
   "metadata": {},
   "outputs": [],
   "source": [
    "def clean_pairs(lines):\n",
    "    cleaned = list()\n",
    "    # regex for char filtering\n",
    "    re_print = re.compile('[^%s]' % re.escape(string.printable))\n",
    "    # translation table for removing punctuation\n",
    "    table = str.maketrans('', '', string.punctuation)\n",
    "    \n",
    "    for pair in lines:\n",
    "        clean_pair = list()\n",
    "        for line in pair:\n",
    "            # normalize unicode chars\n",
    "            line = normalize('NFD', line).encode('ascii', 'ignore')\n",
    "            line = line.decode('UTF-8')\n",
    "            # tokenize on white space\n",
    "            line = line.split()\n",
    "            # convert to lowercase\n",
    "            line = [word.lower() for word in line]\n",
    "            # remove punctuation for each token\n",
    "            line = [word.translate(table) for word in line]\n",
    "            # remove non-printable chars from each token\n",
    "            line = [re_print.sub('', w) for w in line]\n",
    "            # remove tokens with numbers in them\n",
    "            line = [word for word in line if word.isalpha()]\n",
    "            #store as string\n",
    "            clean_pair.append(''.join(line))\n",
    "        cleaned.append(clean_pair)\n",
    "    return array(cleaned)"
   ]
  },
  {
   "cell_type": "code",
   "execution_count": 5,
   "id": "2036cdd5",
   "metadata": {},
   "outputs": [],
   "source": [
    "# load dataset\n",
    "filename = 'por-eng/por.txt'\n",
    "doc = load_doc(filename)"
   ]
  },
  {
   "cell_type": "code",
   "execution_count": 6,
   "id": "f4cafcce",
   "metadata": {},
   "outputs": [
    {
     "name": "stdout",
     "output_type": "stream",
     "text": [
      "Go.\tVai.\tCC-BY 2.0 (France) Attribution: tatoeba.org #2877272 (CM) & #1196331 (alexmarcelo)\n",
      "Go.\tVá.\tCC-BY 2.0 (France) Attribution: tatoeba.org #2877272 (CM) & #5464111 (ToinhoAlam)\n",
      "Hi.\tOi.\tCC-BY 2.0 \n"
     ]
    }
   ],
   "source": [
    "print(doc[:200])"
   ]
  },
  {
   "cell_type": "code",
   "execution_count": 7,
   "id": "329d04d4",
   "metadata": {},
   "outputs": [],
   "source": [
    "# split into english-portuguese pairs\n",
    "pairs = to_pairs(doc)"
   ]
  },
  {
   "cell_type": "code",
   "execution_count": 8,
   "id": "4c1ffb48",
   "metadata": {},
   "outputs": [
    {
     "data": {
      "text/plain": [
       "[['Go.',\n",
       "  'Vai.',\n",
       "  'CC-BY 2.0 (France) Attribution: tatoeba.org #2877272 (CM) & #1196331 (alexmarcelo)'],\n",
       " ['Go.',\n",
       "  'Vá.',\n",
       "  'CC-BY 2.0 (France) Attribution: tatoeba.org #2877272 (CM) & #5464111 (ToinhoAlam)'],\n",
       " ['Hi.',\n",
       "  'Oi.',\n",
       "  'CC-BY 2.0 (France) Attribution: tatoeba.org #538123 (CM) & #397074 (brauliobezerra)'],\n",
       " ['Run!',\n",
       "  'Corre!',\n",
       "  'CC-BY 2.0 (France) Attribution: tatoeba.org #906328 (papabear) & #1197457 (alexmarcelo)'],\n",
       " ['Run!',\n",
       "  'Corra!',\n",
       "  'CC-BY 2.0 (France) Attribution: tatoeba.org #906328 (papabear) & #1197458 (alexmarcelo)']]"
      ]
     },
     "execution_count": 8,
     "metadata": {},
     "output_type": "execute_result"
    }
   ],
   "source": [
    "pairs[:5]"
   ]
  },
  {
   "cell_type": "code",
   "execution_count": 9,
   "id": "0af8c8d1",
   "metadata": {},
   "outputs": [],
   "source": [
    "# clean sentences\n",
    "clean_pairs = clean_pairs(pairs)"
   ]
  },
  {
   "cell_type": "code",
   "execution_count": 10,
   "id": "0ab52687",
   "metadata": {},
   "outputs": [
    {
     "data": {
      "text/plain": [
       "array([['go', 'vai', 'ccbyfranceattributiontatoebaorgcmalexmarcelo'],\n",
       "       ['go', 'va', 'ccbyfranceattributiontatoebaorgcmtoinhoalam'],\n",
       "       ['hi', 'oi', 'ccbyfranceattributiontatoebaorgcmbrauliobezerra'],\n",
       "       ...,\n",
       "       ['achildwhoisanativespeakerusuallyknowsmanythingsabouthisorherlanguagethatanonnativespeakerwhohasbeenstudyingforyearsstilldoesnotknowandperhapswillneverknow',\n",
       "        'umacriancaqueefalantenativageralmentesabemuitascoisassobresualinguaqueumfalantenaonativoquetemestudadohaanosaindanaosabeetalveznuncasabera',\n",
       "        'ccbyfranceattributiontatoebaorgckalexmarcelo'],\n",
       "       ['talesofgentlenessofhonorofjusticeofcourageoffortitudeinsufferingofintrepidityindangerofdauntlessresolutionofironwillinspirechildrentoanemulationofthosevirtues',\n",
       "        'contosdedocilidadedehonradejusticadecoragemdefortalezaperanteosofrimentodeintrepidezperanteoperigoderesolucaodestemidadevontadedeferroinspiramascriancasaumaemulacaodessasvirtudes',\n",
       "        'ccbyfranceattributiontatoebaorglwcangarejo'],\n",
       "       ['usinghighheatsettingswhileironingsyntheticfabricswillmeltthesyntheticfibersandcausevisiblepermanentdamagewhichoftenlookslikeashinyareawherethetoohotironhadthelongestcontactwiththefabric',\n",
       "        'autilizacaodeopcoesdealtocalorquandosepassaaferromalhassinteticasderreteraasfibrassinteticasecausaradanosvisiveispermanentesquemuitasvezestemaaparenciadeumaareareluzenteondeoferrodemasiadoquenteestevemaistempoemcontactocomamalha',\n",
       "        'ccbyfranceattributiontatoebaorgdeliancangarejo']], dtype='<U228')"
      ]
     },
     "execution_count": 10,
     "metadata": {},
     "output_type": "execute_result"
    }
   ],
   "source": [
    "clean_pairs"
   ]
  },
  {
   "cell_type": "code",
   "execution_count": 11,
   "id": "256e313a",
   "metadata": {},
   "outputs": [],
   "source": [
    "# save a list of clean sentences to file\n",
    "def save_clean_data(sentences, filename):\n",
    "    dump(sentences, open(filename, 'wb'))\n",
    "    print('Saved: %s' % filename)"
   ]
  },
  {
   "cell_type": "code",
   "execution_count": 12,
   "id": "7d48eed4",
   "metadata": {},
   "outputs": [
    {
     "name": "stdout",
     "output_type": "stream",
     "text": [
      "Saved: data/english-portuguese.pkl\n"
     ]
    }
   ],
   "source": [
    "# save clean pairs to file\n",
    "save_clean_data(clean_pairs, 'data/english-portuguese.pkl')"
   ]
  },
  {
   "cell_type": "code",
   "execution_count": 13,
   "id": "b4972fa3",
   "metadata": {},
   "outputs": [
    {
     "name": "stdout",
     "output_type": "stream",
     "text": [
      "[go] => [vai]\n",
      "[go] => [va]\n",
      "[hi] => [oi]\n",
      "[run] => [corre]\n",
      "[run] => [corra]\n",
      "[run] => [corram]\n",
      "[run] => [corre]\n",
      "[run] => [corra]\n",
      "[run] => [corram]\n",
      "[who] => [quem]\n",
      "[who] => [que]\n",
      "[wow] => [uau]\n",
      "[wow] => [nossa]\n",
      "[wow] => [wow]\n",
      "[duck] => [abaixa]\n",
      "[fire] => [fogo]\n",
      "[fire] => [incendio]\n",
      "[fire] => [chama]\n",
      "[help] => [ajuda]\n",
      "[help] => [socorro]\n",
      "[jump] => [pule]\n",
      "[jump] => [pula]\n",
      "[jump] => [pulem]\n",
      "[jump] => [pule]\n",
      "[jump] => [pulam]\n",
      "[stop] => [pare]\n",
      "[stop] => [para]\n",
      "[stop] => [parem]\n",
      "[stop] => [parada]\n",
      "[stop] => [ponto]\n",
      "[wait] => [espere]\n",
      "[wait] => [aguarde]\n",
      "[wait] => [espere]\n",
      "[wait] => [esperem]\n",
      "[goon] => [sigaemfrente]\n",
      "[goon] => [va]\n",
      "[goon] => [continue]\n",
      "[goon] => [sigaadiante]\n",
      "[hello] => [oi]\n",
      "[hello] => [alo]\n",
      "[hello] => [ola]\n",
      "[hello] => [alo]\n",
      "[hello] => [oi]\n",
      "[iran] => [eucorri]\n",
      "[isee] => [eusei]\n",
      "[isee] => [euentendo]\n",
      "[isee] => [estouvendo]\n",
      "[isee] => [euvejo]\n",
      "[isee] => [euassisto]\n",
      "[itry] => [eutento]\n",
      "[itry] => [tento]\n",
      "[iwon] => [ganhei]\n",
      "[iwon] => [euvenci]\n",
      "[iwon] => [euvenci]\n",
      "[ohno] => [ahnao]\n",
      "[relax] => [relaxe]\n",
      "[relax] => [relaxa]\n",
      "[relax] => [relaxe]\n",
      "[shoot] => [tiro]\n",
      "[smile] => [sorria]\n",
      "[smile] => [sorriam]\n",
      "[attack] => [atacar]\n",
      "[attack] => [ataquem]\n",
      "[attack] => [ataque]\n",
      "[cheers] => [saude]\n",
      "[eatup] => [comatudo]\n",
      "[eatup] => [coma]\n",
      "[freeze] => [parado]\n",
      "[getup] => [levantese]\n",
      "[getup] => [levantemse]\n",
      "[getup] => [levantate]\n",
      "[getup] => [levantese]\n",
      "[getup] => [levantate]\n",
      "[gonow] => [vaagora]\n",
      "[gotit] => [entendi]\n",
      "[gotit] => [euentendi]\n",
      "[gotit] => [saquei]\n",
      "[gotit] => [entendeu]\n",
      "[heran] => [elecorreu]\n",
      "[heran] => [elecorria]\n",
      "[hopin] => [sobeai]\n",
      "[hopin] => [entraai]\n",
      "[hugme] => [meabrace]\n",
      "[ifell] => [eucai]\n",
      "[iknit] => [eutricoto]\n",
      "[iknow] => [eusei]\n",
      "[iknow] => [sei]\n",
      "[ileft] => [eusai]\n",
      "[ilied] => [eumenti]\n",
      "[ipaid] => [eupaguei]\n",
      "[iquit] => [eumedemito]\n",
      "[iwork] => [euestoutrabalhando]\n",
      "[imok] => [estoubem]\n",
      "[imok] => [euvoubem]\n",
      "[imup] => [estouacordado]\n",
      "[listen] => [escute]\n",
      "[listen] => [oucame]\n",
      "[listen] => [escuta]\n",
      "[listen] => [escutem]\n",
      "[listen] => [oucaisso]\n"
     ]
    }
   ],
   "source": [
    "# spot check\n",
    "for i in range(100):\n",
    " print('[%s] => [%s]' % (clean_pairs[i,0], clean_pairs[i,1]))"
   ]
  },
  {
   "cell_type": "markdown",
   "id": "0b61d7bd",
   "metadata": {},
   "source": [
    "## 2. Splitting cleaned text into train and test sets"
   ]
  },
  {
   "cell_type": "code",
   "execution_count": 14,
   "id": "ed284529",
   "metadata": {},
   "outputs": [
    {
     "data": {
      "text/plain": [
       "188739"
      ]
     },
     "execution_count": 14,
     "metadata": {},
     "output_type": "execute_result"
    }
   ],
   "source": [
    "len(clean_pairs)"
   ]
  },
  {
   "cell_type": "code",
   "execution_count": 15,
   "id": "ed70311e",
   "metadata": {},
   "outputs": [],
   "source": [
    "from pickle import load\n",
    "from pickle import dump\n",
    "from numpy.random import rand\n",
    "from numpy.random import shuffle"
   ]
  },
  {
   "cell_type": "code",
   "execution_count": 16,
   "id": "e905a895",
   "metadata": {},
   "outputs": [],
   "source": [
    "# load a clean dataset\n",
    "def load_clean_sentences(filename):\n",
    "    return load(open(filename, 'rb'))"
   ]
  },
  {
   "cell_type": "code",
   "execution_count": 17,
   "id": "97c5fb39",
   "metadata": {},
   "outputs": [],
   "source": [
    "# save a list of clean sentences to file\n",
    "def save_clean_data(sentences, filename):\n",
    "    dump(sentences, open(filename, 'wb'))\n",
    "    print('Saved: %s' % filename)"
   ]
  },
  {
   "cell_type": "code",
   "execution_count": 18,
   "id": "a0156297",
   "metadata": {},
   "outputs": [],
   "source": [
    "# load dataset\n",
    "raw_dataset = load_clean_sentences('data/english-portuguese.pkl')\n",
    "\n",
    "# reduce dataset size to 10000 sentences\n",
    "n_sentences = 10000\n",
    "dataset = raw_dataset[:n_sentences, :]\n",
    "\n",
    "# random shuffle the data\n",
    "shuffle(dataset)\n",
    "\n",
    "# split into train/test\n",
    "train, test = dataset[:9000], dataset[9000:]"
   ]
  },
  {
   "cell_type": "code",
   "execution_count": 19,
   "id": "edea6729",
   "metadata": {},
   "outputs": [
    {
     "name": "stdout",
     "output_type": "stream",
     "text": [
      "Saved: data/english-portuguese-both.pkl\n",
      "Saved: data/english-portuguese-train.pkl\n",
      "Saved: data/english-portuguese-test.pkl\n"
     ]
    }
   ],
   "source": [
    "# save files\n",
    "save_clean_data(dataset, 'data/english-portuguese-both.pkl')\n",
    "save_clean_data(train, 'data/english-portuguese-train.pkl')\n",
    "save_clean_data(test, 'data/english-portuguese-test.pkl')"
   ]
  },
  {
   "cell_type": "markdown",
   "id": "eeecd814",
   "metadata": {},
   "source": [
    "## Training a neural translation model"
   ]
  },
  {
   "cell_type": "code",
   "execution_count": 20,
   "id": "b82dcc72",
   "metadata": {},
   "outputs": [],
   "source": [
    "from pickle import load\n",
    "from numpy import array\n",
    "from keras.preprocessing.text import Tokenizer\n",
    "from keras.utils import pad_sequences\n",
    "#from keras.preprocessing.sequence import pad_sequences\n",
    "from keras.utils import to_categorical\n",
    "from keras.utils import plot_model\n",
    "from keras.models import Sequential\n",
    "from keras.layers import LSTM\n",
    "from keras.layers import Dense\n",
    "from keras.layers import Embedding\n",
    "from keras.layers import RepeatVector\n",
    "from keras.layers import TimeDistributed\n",
    "from keras.callbacks import ModelCheckpoint"
   ]
  },
  {
   "cell_type": "code",
   "execution_count": 21,
   "id": "082f5f26",
   "metadata": {},
   "outputs": [],
   "source": [
    "# function to load the data files\n",
    "def loead_clean_sentences(filename):\n",
    "    return load(opne(filename, 'rb'))"
   ]
  },
  {
   "cell_type": "code",
   "execution_count": 22,
   "id": "28f3f9fb",
   "metadata": {},
   "outputs": [],
   "source": [
    "# loading full data, train test sets\n",
    "# dataset is used to define the maximum lenght and vocabulary\n",
    "dataset = load_clean_sentences('data/english-portuguese-both.pkl')\n",
    "train = load_clean_sentences('data/english-portuguese-train.pkl')\n",
    "test = load_clean_sentences('data/english-portuguese-test.pkl')"
   ]
  },
  {
   "cell_type": "code",
   "execution_count": 23,
   "id": "68fa8f71",
   "metadata": {},
   "outputs": [],
   "source": [
    "# fit a tokenizer\n",
    "def create_tokenizer(lines):\n",
    "    tokenizer = Tokenizer()\n",
    "    tokenizer.fit_on_texts(lines)\n",
    "    return tokenizer"
   ]
  },
  {
   "cell_type": "code",
   "execution_count": 24,
   "id": "3240136e",
   "metadata": {},
   "outputs": [],
   "source": [
    "# find the lenght of the longest sequence in a list of phrases\n",
    "def max_length(lines):\n",
    "    return max(len(line.split()) for line in lines)"
   ]
  },
  {
   "cell_type": "code",
   "execution_count": 25,
   "id": "c8c43bee",
   "metadata": {},
   "outputs": [],
   "source": [
    "# encode and pad sequences prior to embadding\n",
    "def encode_sequences(tokenizer, length, lines):\n",
    "    X = tokenizer.texts_to_sequences(lines)\n",
    "    X = pad_sequences(X, maxlen=length, padding='post')\n",
    "    return X"
   ]
  },
  {
   "cell_type": "code",
   "execution_count": 26,
   "id": "e13af7bb",
   "metadata": {},
   "outputs": [
    {
     "name": "stdout",
     "output_type": "stream",
     "text": [
      "English Vocabulary Size: 6200\n",
      "English Max Length: 1\n"
     ]
    }
   ],
   "source": [
    "# creating english tokenizer\n",
    "eng_tokenizer = create_tokenizer(dataset[:, 0])\n",
    "eng_vocab_size = len(eng_tokenizer.word_index) + 1\n",
    "eng_length = max_length(dataset[:, 0])\n",
    "\n",
    "print('English Vocabulary Size: %d' % eng_vocab_size)\n",
    "print('English Max Length: %d' % (eng_length))"
   ]
  },
  {
   "cell_type": "code",
   "execution_count": 27,
   "id": "6347bda7",
   "metadata": {},
   "outputs": [
    {
     "name": "stdout",
     "output_type": "stream",
     "text": [
      "Portuguese Vocabulary Size: 8695\n",
      "Portuguese Max Length: 1\n"
     ]
    }
   ],
   "source": [
    "# creating portuguese tokenizer\n",
    "pt_tokenizer = create_tokenizer(dataset[:, 1])\n",
    "pt_vocab_size = len(pt_tokenizer.word_index) + 1\n",
    "pt_length = max_length(dataset[:, 1])\n",
    "\n",
    "print('Portuguese Vocabulary Size: %d' % pt_vocab_size)\n",
    "print('Portuguese Max Length: %d' % (pt_length))"
   ]
  },
  {
   "cell_type": "code",
   "execution_count": 28,
   "id": "b1234f78",
   "metadata": {},
   "outputs": [],
   "source": [
    "# one hot encode target sequences\n",
    "def encode_output(sequences, vocab_size):\n",
    "    ylist = list()\n",
    "    for sequence in sequences:\n",
    "        encoded = to_categorical(sequence, num_classes=vocab_size)\n",
    "        ylist.append(encoded)\n",
    "    y = array(ylist)\n",
    "    y = y.reshape(sequences.shape[0], sequences.shape[1], vocab_size)\n",
    "    return y"
   ]
  },
  {
   "cell_type": "code",
   "execution_count": 29,
   "id": "b95ea0ac",
   "metadata": {},
   "outputs": [],
   "source": [
    "# prepare train and validation data\n",
    "# train\n",
    "trainX = encode_sequences(pt_tokenizer, pt_length, train[:, 1])\n",
    "trainY = encode_sequences(eng_tokenizer, eng_length, train[:, 0])\n",
    "trainY = encode_output(trainY, eng_vocab_size)\n",
    "\n",
    "# val\n",
    "testX = encode_sequences(pt_tokenizer, pt_length, test[:, 1])\n",
    "testY = encode_sequences(eng_tokenizer, eng_length, test[:, 0])\n",
    "testY = encode_output(testY, eng_vocab_size)"
   ]
  },
  {
   "cell_type": "code",
   "execution_count": 30,
   "id": "9266554f",
   "metadata": {},
   "outputs": [
    {
     "data": {
      "text/plain": [
       "array([[ 26],\n",
       "       [ 75],\n",
       "       [217],\n",
       "       [959],\n",
       "       [960]], dtype=int32)"
      ]
     },
     "execution_count": 30,
     "metadata": {},
     "output_type": "execute_result"
    }
   ],
   "source": [
    "trainX[:5]"
   ]
  },
  {
   "cell_type": "code",
   "execution_count": 31,
   "id": "e5007364",
   "metadata": {},
   "outputs": [
    {
     "data": {
      "text/plain": [
       "array([[[0., 0., 0., ..., 0., 0., 0.]],\n",
       "\n",
       "       [[0., 0., 0., ..., 0., 0., 0.]],\n",
       "\n",
       "       [[0., 0., 0., ..., 0., 0., 0.]],\n",
       "\n",
       "       [[0., 0., 0., ..., 0., 0., 0.]],\n",
       "\n",
       "       [[0., 0., 0., ..., 0., 0., 0.]]], dtype=float32)"
      ]
     },
     "execution_count": 31,
     "metadata": {},
     "output_type": "execute_result"
    }
   ],
   "source": [
    "trainY[:5]"
   ]
  },
  {
   "cell_type": "code",
   "execution_count": 32,
   "id": "dcbd7286",
   "metadata": {},
   "outputs": [],
   "source": [
    "# configuring an LSTM model with Adam optimization\n",
    "\n",
    "# defining model architecture and parameters\n",
    "def define_model(src_vocab, tar_vocab, src_timesteps, tar_timesteps, n_units):\n",
    "    model = Sequential()\n",
    "    model.add(Embedding(src_vocab, n_units, input_length=src_timesteps, mask_zero=True))\n",
    "    model.add(LSTM(n_units))\n",
    "    model.add(RepeatVector(tar_timesteps))\n",
    "    model.add(LSTM(n_units, return_sequences=True))\n",
    "    model.add(TimeDistributed(Dense(tar_vocab, activation='softmax')))\n",
    "    return model"
   ]
  },
  {
   "cell_type": "code",
   "execution_count": 48,
   "id": "3c7e3901",
   "metadata": {},
   "outputs": [
    {
     "name": "stdout",
     "output_type": "stream",
     "text": [
      "Model: \"sequential_2\"\n",
      "_________________________________________________________________\n",
      " Layer (type)                Output Shape              Param #   \n",
      "=================================================================\n",
      " embedding_2 (Embedding)     (None, 1, 256)            2225920   \n",
      "                                                                 \n",
      " lstm_4 (LSTM)               (None, 256)               525312    \n",
      "                                                                 \n",
      " repeat_vector_2 (RepeatVect  (None, 1, 256)           0         \n",
      " or)                                                             \n",
      "                                                                 \n",
      " lstm_5 (LSTM)               (None, 1, 256)            525312    \n",
      "                                                                 \n",
      " time_distributed_2 (TimeDis  (None, 1, 6200)          1593400   \n",
      " tributed)                                                       \n",
      "                                                                 \n",
      "=================================================================\n",
      "Total params: 4,869,944\n",
      "Trainable params: 4,869,944\n",
      "Non-trainable params: 0\n",
      "_________________________________________________________________\n",
      "None\n"
     ]
    }
   ],
   "source": [
    "# creating the model and printing its summary\n",
    "model = define_model(pt_vocab_size, eng_vocab_size, pt_length, eng_length, 256)\n",
    "model.compile(optimizer='adam', loss='categorical_crossentropy')\n",
    "\n",
    "print(model.summary())"
   ]
  },
  {
   "cell_type": "code",
   "execution_count": 49,
   "id": "af0f2e65",
   "metadata": {},
   "outputs": [],
   "source": [
    "#!conda install pydot\n",
    "#!conda install graphviz"
   ]
  },
  {
   "cell_type": "code",
   "execution_count": 50,
   "id": "ee4c7341",
   "metadata": {},
   "outputs": [
    {
     "data": {
      "image/png": "[encoded data removed]",
      "text/plain": [
       "<IPython.core.display.Image object>"
      ]
     },
     "execution_count": 50,
     "metadata": {},
     "output_type": "execute_result"
    }
   ],
   "source": [
    "plot_model(model, to_file='model/model.png', show_shapes=True)"
   ]
  },
  {
   "cell_type": "code",
   "execution_count": 51,
   "id": "15f7b486",
   "metadata": {},
   "outputs": [
    {
     "name": "stdout",
     "output_type": "stream",
     "text": [
      "Epoch 1/15\n",
      "\n",
      "Epoch 1: val_loss improved from inf to 8.75793, saving model to model/model.h5\n",
      "141/141 - 5s - loss: 8.7401 - val_loss: 8.7579 - 5s/epoch - 35ms/step\n",
      "Epoch 2/15\n",
      "\n",
      "Epoch 2: val_loss did not improve from 8.75793\n",
      "141/141 - 3s - loss: 8.6937 - val_loss: 8.7896 - 3s/epoch - 18ms/step\n",
      "Epoch 3/15\n",
      "\n",
      "Epoch 3: val_loss did not improve from 8.75793\n",
      "141/141 - 3s - loss: 8.3093 - val_loss: 9.0162 - 3s/epoch - 18ms/step\n",
      "Epoch 4/15\n",
      "\n",
      "Epoch 4: val_loss did not improve from 8.75793\n",
      "141/141 - 3s - loss: 7.8489 - val_loss: 9.1148 - 3s/epoch - 18ms/step\n",
      "Epoch 5/15\n",
      "\n",
      "Epoch 5: val_loss did not improve from 8.75793\n",
      "141/141 - 3s - loss: 7.4646 - val_loss: 9.2539 - 3s/epoch - 18ms/step\n",
      "Epoch 6/15\n",
      "\n",
      "Epoch 6: val_loss did not improve from 8.75793\n",
      "141/141 - 3s - loss: 7.0599 - val_loss: 9.3488 - 3s/epoch - 18ms/step\n",
      "Epoch 7/15\n",
      "\n",
      "Epoch 7: val_loss did not improve from 8.75793\n",
      "141/141 - 3s - loss: 6.6054 - val_loss: 9.4619 - 3s/epoch - 19ms/step\n",
      "Epoch 8/15\n",
      "\n",
      "Epoch 8: val_loss did not improve from 8.75793\n",
      "141/141 - 3s - loss: 6.2240 - val_loss: 9.5340 - 3s/epoch - 19ms/step\n",
      "Epoch 9/15\n",
      "\n",
      "Epoch 9: val_loss did not improve from 8.75793\n",
      "141/141 - 3s - loss: 5.8520 - val_loss: 9.7727 - 3s/epoch - 19ms/step\n",
      "Epoch 10/15\n",
      "\n",
      "Epoch 10: val_loss did not improve from 8.75793\n",
      "141/141 - 3s - loss: 5.4538 - val_loss: 10.1813 - 3s/epoch - 19ms/step\n",
      "Epoch 11/15\n",
      "\n",
      "Epoch 11: val_loss did not improve from 8.75793\n",
      "141/141 - 3s - loss: 5.0451 - val_loss: 10.5821 - 3s/epoch - 19ms/step\n",
      "Epoch 12/15\n",
      "\n",
      "Epoch 12: val_loss did not improve from 8.75793\n",
      "141/141 - 3s - loss: 4.6570 - val_loss: 10.9718 - 3s/epoch - 19ms/step\n",
      "Epoch 13/15\n",
      "\n",
      "Epoch 13: val_loss did not improve from 8.75793\n",
      "141/141 - 3s - loss: 4.2940 - val_loss: 11.2382 - 3s/epoch - 19ms/step\n",
      "Epoch 14/15\n",
      "\n",
      "Epoch 14: val_loss did not improve from 8.75793\n",
      "141/141 - 3s - loss: 3.9513 - val_loss: 11.4518 - 3s/epoch - 19ms/step\n",
      "Epoch 15/15\n",
      "\n",
      "Epoch 15: val_loss did not improve from 8.75793\n",
      "141/141 - 3s - loss: 3.6431 - val_loss: 11.7701 - 3s/epoch - 19ms/step\n"
     ]
    },
    {
     "data": {
      "text/plain": [
       "<keras.callbacks.History at 0x307976520>"
      ]
     },
     "execution_count": 51,
     "metadata": {},
     "output_type": "execute_result"
    }
   ],
   "source": [
    "# fit the model\n",
    "filename = 'model/model.h5'\n",
    "checkpoint = ModelCheckpoint(filename, monitor='val_loss', verbose=1, save_best_only=True, mode='min')\n",
    "model.fit(trainX, trainY, epochs=15, batch_size=64, validation_data=(testX, testY), callbacks=[checkpoint], verbose=2)"
   ]
  },
  {
   "cell_type": "markdown",
   "id": "9b78dbfa",
   "metadata": {},
   "source": [
    "## Evaluating the neural translation model"
   ]
  },
  {
   "cell_type": "code",
   "execution_count": 52,
   "id": "24eac11b",
   "metadata": {},
   "outputs": [],
   "source": [
    "from pickle import load\n",
    "from numpy import array\n",
    "from numpy import argmax\n",
    "from keras.models import load_model\n",
    "from nltk.translate.bleu_score import corpus_bleu"
   ]
  },
  {
   "cell_type": "code",
   "execution_count": 53,
   "id": "f2771525",
   "metadata": {},
   "outputs": [],
   "source": [
    "# Evaluation involves two steps: \n",
    "# 1. generating a translated output sequence,\n",
    "# 2. repeating this process for many input examples and \n",
    "# summarizing the skill of the model across those cases.\n",
    "\n",
    "# map an integer to a word\n",
    "def word_for_id(integer, tokenizer):\n",
    "    for word, index in tokenizer.word_index.items():\n",
    "        if index == integer:\n",
    "            return word\n",
    "    return None"
   ]
  },
  {
   "cell_type": "code",
   "execution_count": 54,
   "id": "3612534c",
   "metadata": {},
   "outputs": [],
   "source": [
    "# generate target given source sequence\n",
    "def predict_sequence(model, tokenizer, source):\n",
    "    prediction = model.predict(source, verbose=0)[0]\n",
    "    integers = [argmax(vector) for vector in prediction]\n",
    "    target = list()\n",
    "    \n",
    "    for i in integers:\n",
    "        word = word_for_id(i, tokenizer)\n",
    "        if word is None:\n",
    "            break\n",
    "        target.append(word)\n",
    "    return ' '.join(target)"
   ]
  },
  {
   "cell_type": "code",
   "execution_count": 55,
   "id": "2ffc502f",
   "metadata": {},
   "outputs": [],
   "source": [
    "model = load_model('model/model.h5')"
   ]
  },
  {
   "cell_type": "code",
   "execution_count": 56,
   "id": "e8c1b759",
   "metadata": {},
   "outputs": [],
   "source": [
    "def evaluate_model(model, tokenizer, sources, raw_dataset):\n",
    "    actual, predicted = list(), list()\n",
    "    for i, source in enumerate(sources):\n",
    "        source = source.reshape((1, source.shape[0]))\n",
    "        translation = predict_sequence(model, eng_tokenizer, source)\n",
    "        raw_target, raw_src = raw_dataset[i][0], raw_dataset[i][1]\n",
    "        if i < 10:\n",
    "            print('src=[%s], target=[%s], predicted=[%s]' % (raw_src, raw_target, translation))\n",
    "    actual.append([raw_target.split()])\n",
    "    predicted.append(translation.split())\n",
    "    # calculate BLEU score\n",
    "    print('BLEU-1: %f' % corpus_bleu(actual, predicted, weights=(1.0, 0, 0, 0)))\n",
    "    print('BLEU-2: %f' % corpus_bleu(actual, predicted, weights=(0.5, 0.5, 0, 0)))\n",
    "    print('BLEU-3: %f' % corpus_bleu(actual, predicted, weights=(0.3, 0.3, 0.3, 0)))\n",
    "    print('BLEU-4: %f' % corpus_bleu(actual, predicted, weights=(0.25, 0.25, 0.25, 0.25)))\n"
   ]
  },
  {
   "cell_type": "code",
   "execution_count": 57,
   "id": "ee58e307",
   "metadata": {},
   "outputs": [
    {
     "name": "stdout",
     "output_type": "stream",
     "text": [
      "train\n",
      "src=[elasseforam], target=[theyvegone], predicted=[itsthere]\n",
      "src=[tomaplaudiu], target=[tomclapped], predicted=[itsthere]\n",
      "src=[nosdevemoscomecar], target=[shallwestart], predicted=[pleaselisten]\n",
      "src=[eunaofuidemitido], target=[iwasntfired], predicted=[itsthere]\n",
      "src=[quandoeojantar], target=[whensdinner], predicted=[itsthere]\n",
      "src=[leiaemvozalta], target=[readitaloud], predicted=[itsthere]\n",
      "src=[eunaoestavaocupado], target=[iwasntbusy], predicted=[itsthere]\n",
      "src=[medeumbeijo], target=[givemeakiss], predicted=[itsthere]\n",
      "src=[mandemeumacopia], target=[sendmeacopy], predicted=[itsthere]\n",
      "src=[otomelouco], target=[tomiscrazy], predicted=[itsthere]\n",
      "BLEU-1: 0.000000\n",
      "BLEU-2: 0.000000\n",
      "BLEU-3: 0.000000\n",
      "BLEU-4: 0.000000\n"
     ]
    }
   ],
   "source": [
    "# load model\n",
    "model = load_model('model/model.h5')\n",
    "# test on some training sequences\n",
    "print('train')\n",
    "evaluate_model(model, eng_tokenizer, trainX[:20], train[:20])"
   ]
  },
  {
   "cell_type": "code",
   "execution_count": 58,
   "id": "bcee3691",
   "metadata": {},
   "outputs": [
    {
     "name": "stdout",
     "output_type": "stream",
     "text": [
      "test\n",
      "src=[agoraestoumelembrando], target=[nowiremember], predicted=[itsthere]\n",
      "src=[comadevagar], target=[eatslowly], predicted=[itsthere]\n",
      "src=[comecem], target=[getstarted], predicted=[itsthere]\n",
      "src=[fecheessaporta], target=[shutthatdoor], predicted=[itsthere]\n",
      "src=[acabei], target=[imthrough], predicted=[itsthere]\n",
      "src=[estounomeucarro], target=[iminmycar], predicted=[itsthere]\n",
      "src=[nosconseguimos], target=[werehere], predicted=[itsthere]\n",
      "src=[euseidisso], target=[iknowthis], predicted=[itsthere]\n",
      "src=[escolhame], target=[chooseme], predicted=[itsthere]\n",
      "src=[naofumar], target=[dontsmoke], predicted=[itsthere]\n",
      "BLEU-1: 0.000000\n",
      "BLEU-2: 0.000000\n",
      "BLEU-3: 0.000000\n",
      "BLEU-4: 0.000000\n"
     ]
    }
   ],
   "source": [
    "# test on some test sequences\n",
    "print('test')\n",
    "evaluate_model(model, eng_tokenizer, testX[:20], test[:20])"
   ]
  },
  {
   "cell_type": "code",
   "execution_count": null,
   "id": "7863d119",
   "metadata": {},
   "outputs": [],
   "source": [
    "\n"
   ]
  },
  {
   "cell_type": "code",
   "execution_count": null,
   "id": "0ba91fff",
   "metadata": {},
   "outputs": [],
   "source": []
  }
 ],
 "metadata": {
  "kernelspec": {
   "display_name": "Python 3 (ipykernel)",
   "language": "python",
   "name": "python3"
  },
  "language_info": {
   "codemirror_mode": {
    "name": "ipython",
    "version": 3
   },
   "file_extension": ".py",
   "mimetype": "text/x-python",
   "name": "python",
   "nbconvert_exporter": "python",
   "pygments_lexer": "ipython3",
   "version": "3.9.13"
  }
 },
 "nbformat": 4,
 "nbformat_minor": 5
}
